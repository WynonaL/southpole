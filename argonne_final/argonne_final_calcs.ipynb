{
 "cells": [
  {
   "cell_type": "markdown",
   "metadata": {},
   "source": [
    "Author: Wynona Lam  \n",
    "Role: SULI Intern  \n",
    "Date: April 2024  \n",
    "\n",
    "Goal: To calculate CO2 emissions related to the various scenarios described in the paper: \"Techno-economic analysis of renewable energy generation at the South Pole\"."
   ]
  },
  {
   "cell_type": "code",
   "execution_count": 1,
   "metadata": {},
   "outputs": [],
   "source": [
    "import south_pole_traverse as sp"
   ]
  },
  {
   "cell_type": "markdown",
   "metadata": {},
   "source": [
    "Emissions associated with 1 year of diesel fuel used in the South Pole which is 124k gallons of disel per the Report\n",
    "Scope: Embodied emissions of the fuel needed at the South Pole and used within the transport of the fuel + emissions released during the transportation of said fuel (combustion)"
   ]
  },
  {
   "cell_type": "code",
   "execution_count": 2,
   "metadata": {},
   "outputs": [],
   "source": [
    "#124k gallons of diesel weights approx 800k lbs aka 400 tons (124k gathered from report, weight calculation from Google)\n",
    "emissions_first_leg = sp.calculate_tanker_emissions(6900, 400, 1)\n",
    "emissions_second_leg = sp.calculate_tanker_emissions(2500, 400/2, 2) #This function assumes the cargo weight is carried by all vehicles aka in this case the 2 tankers (not true)\n",
    "emissions_third_leg = sp.calculate_truck_emissions(1030, 80, 9) #Each vehicle pulls between 160k-200k lbs of fuel per the Report\n",
    "emissions_fuel_used = sp.calculate_fuelused_emissions(11730, 9270)\n",
    "emissions_fuel_transported = sp.calculate_emissions_from_diesel(124000) #in gallons"
   ]
  },
  {
   "cell_type": "code",
   "execution_count": 8,
   "metadata": {},
   "outputs": [
    {
     "name": "stdout",
     "output_type": "stream",
     "text": [
      "{'CO2': 233759086.75851363, 'CH4': 1922227.9395642178, 'N2O': 4325.249834421531}\n",
      "Grams of CO2 released: 292222272.5623244\n"
     ]
    }
   ],
   "source": [
    "total_emissions = sp.sum_emissions(\n",
    "    emissions_first_leg,\n",
    "    emissions_second_leg,\n",
    "    emissions_third_leg,\n",
    "    emissions_fuel_used,\n",
    "    emissions_fuel_transported  # Assuming emissions_fuel_transported has been calculated and is a flat dict\n",
    ")\n",
    "\n",
    "print(total_emissions)\n",
    "co2_emissions = sp.calculate_co2_equivalent(total_emissions)\n",
    "print(\"Grams of CO2 released: \" + str(co2_emissions))\n"
   ]
  },
  {
   "cell_type": "markdown",
   "metadata": {},
   "source": [
    "Final Metrics: 292222272g of CO2 or 292222.27kg are released during 1 year of diesel fuel transported to the south pole. This does not include the emissions released when the fuel is actually used at the base. Now let's roughly calculate the CO2 released during the transportation and manufacturing of the renewable energy sources in various scenarios.  \n",
    "\n",
    "Scenario A was unrealistic, thus not calculated at all.  \n",
    "\n",
    "Scenario B: PV System Size (Kw-dc) = 0, Wind System Size (KW) = 780,  BESS power (kw) = 200,  BESS energy (kwh) = 3310,  Diesel fuel (gallons) = 9500  \n",
    "\n",
    "Scenario C: PV System Size (Kw-dc) = 180  Wind System Size (KW) = 570  BESS power (kw) = 180  BESS energy (kwh) = 3410  Diesel fuel (gallons) = 5600  \n",
    "  \n",
    "Scenario D: PV System Size (Kw-dc) = 120  Wind System Size (KW) = 600  BESS power (kw) = 180  BESS energy (kwh) = 12570  Diesel fuel (gallons) = 0  \n",
    "  \n",
    "Scenario E: PV System Size (Kw-dc) = 200  Wind System Size (KW) = 580  BESS power (kw) = 200  BESS energy (kwh) = 2210  Diesel fuel (gallons) = 8500  \n",
    "\n",
    "Typically the wind turbines and lithium ion BESS storage are shipped via LC-130. Max cargo load of a LC-130 is 45k lbs. The panels can be sledded.  "
   ]
  },
  {
   "cell_type": "code",
   "execution_count": 2,
   "metadata": {},
   "outputs": [
    {
     "name": "stdout",
     "output_type": "stream",
     "text": [
      "Grams of CO2 released for B: 1329610389.1508195\n",
      "Grams of CO2 released for C: 1397310612.1105995\n",
      "Grams of CO2 released for D: 3354551306.940117\n",
      "Grams of CO2 released for E: 1168613072.375611\n"
     ]
    }
   ],
   "source": [
    "#Scenario B\n",
    "emissions_scenario_b = sp.transportation_scenario_emissions(0, 100, 780, 200, 3310, 9500)\n",
    "embodied_emissions_b = sp.embodied_renewable_emissions(0, 780, 3310, 9500)\n",
    "total_emissions_b  = sp.consolidate_scenario_emissions(emissions_scenario_b, embodied_emissions_b)\n",
    "co2_emissions_b = sp.calculate_co2_equivalent(total_emissions_b)\n",
    "print(\"Grams of CO2 released for B: \" + str(co2_emissions_b))\n",
    "\n",
    "#Scenario C\n",
    "emissions_scenario_c = sp.transportation_scenario_emissions(180, 100, 580, 180, 3410, 5600)\n",
    "embodied_emissions_c = sp.embodied_renewable_emissions(180, 570, 3410, 5600)\n",
    "total_emissions_c  = sp.consolidate_scenario_emissions(emissions_scenario_c, embodied_emissions_c)\n",
    "co2_emissions_c = sp.calculate_co2_equivalent(total_emissions_c)\n",
    "print(\"Grams of CO2 released for C: \" + str(co2_emissions_c))\n",
    "\n",
    "#Scenario D\n",
    "emissions_scenario_d = sp.transportation_scenario_emissions(120, 100, 600, 180, 12570, 0)\n",
    "embodied_emissions_d = sp.embodied_renewable_emissions(120, 600, 12570, 0)\n",
    "total_emissions_d  = sp.consolidate_scenario_emissions(emissions_scenario_d, embodied_emissions_d)\n",
    "co2_emissions_d = sp.calculate_co2_equivalent(total_emissions_d)\n",
    "print(\"Grams of CO2 released for D: \" + str(co2_emissions_d))\n",
    "\n",
    "#Scenario E\n",
    "emissions_scenario_e = sp.transportation_scenario_emissions(200, 100, 580, 200, 2210, 8500)\n",
    "embodied_emissions_e = sp.embodied_renewable_emissions(200, 580, 2210, 8500)\n",
    "total_emissions_e  = sp.consolidate_scenario_emissions(emissions_scenario_e, embodied_emissions_e)\n",
    "co2_emissions_e = sp.calculate_co2_equivalent(total_emissions_e)\n",
    "print(\"Grams of CO2 released for E: \" + str(co2_emissions_e))"
   ]
  },
  {
   "cell_type": "markdown",
   "metadata": {},
   "source": [
    "The final metrics for each scenario are as such:  \n",
    "\n",
    "- Scenario B: 1329610389.15g or 1329610.389 kg co2   \n",
    "- Scenario C: 1397310612.11g or 1397310.612 kg co2    \n",
    "- Scenario D: 3354551306.94g or 3354551.307 kg co2  \n",
    "- Sceanrio E: 1168613072.37g or 1168613.072 kg co2  \n",
    "\n",
    "is released. This is not including the maintenance and other smaller parts of the renewable energy system."
   ]
  },
  {
   "cell_type": "markdown",
   "metadata": {},
   "source": [
    "Final Conclusion & Assumptions:  \n",
    "\n",
    "It would take each scenario...\n",
    "\n",
    "- Scenario B: Approximately 4.55 years  \n",
    "- Scenario C: Approximately 4.78 years  \n",
    "- Scenario D: Approximately 11.48 years  \n",
    "- Scenario E: Approximately 4.00 years  \n",
    "\n",
    "to pay off the carbon debt associated with the R.E vs just shipping the diesel fuel (assuming it stays at 124k gallons per year)\n",
    "\n",
    "Assumptions of the code:\n",
    "- Icebreakers are modeled as an Ocean Tanker\n",
    "- All case quadtracs, prinoths, and LC-130s are modeled as heavy, heavy duty trucks \n",
    "- Wind turbines are assumed to take 7 LC-130 trips to get from McMurdo to South Pole\n",
    "- When vehicles pull cargo weighing more than their max load, fuel efficiency and emissions are presumed to be not affected\n",
    "- The trip to to destination emissions are calculated using the BTU/ton-mile metric in GREET vs when on the way back with an empty load, calculated with the fuel efficiency\n",
    "- The emissions from the fuel used during the SpoT trip assumes constant specific fuel efficiency and MPG regardless of cargo load\n",
    "\n",
    "Therefore the max cargo/payload for each vehicle and the associated fuel efficiency are violated through these assumptions; thus, the CO2 emissions are not extremely accurate. The paper and code go into depth regarding how assumptions affect the calculations and where some of the constants used are found."
   ]
  },
  {
   "cell_type": "markdown",
   "metadata": {},
   "source": [
    "These are extra calculations for unit measurement:"
   ]
  },
  {
   "cell_type": "code",
   "execution_count": 7,
   "metadata": {},
   "outputs": [
    {
     "name": "stdout",
     "output_type": "stream",
     "text": [
      "11712.982411868461\n",
      "{'CO2': 11290.705770409522, 'CH4': 13.760618550822628, 'N2O': 0.04472603899056617}\n"
     ]
    }
   ],
   "source": [
    "emissions = sp.calculate_truck_emissions(1030, 0.00110231, 9)\n",
    "total_co2_for_1kg_spot = sp.calculate_co2_equivalent(emissions) \n",
    "print(total_co2_for_1kg_spot)\n",
    "print(emissions)"
   ]
  },
  {
   "cell_type": "markdown",
   "metadata": {},
   "source": [
    "CO2 for the SpoT (sled delivery) portion of the Trip for 1kg, using all 9 vehicles: 11290g of CO2/kg shipped (quite high, but this is the round trip figure + turns the n2o and ch4 to co2?). The CO2 for the C-130 is the same as above since this program assumes it to be a truck as well."
   ]
  },
  {
   "cell_type": "markdown",
   "metadata": {},
   "source": [
    "Now, let's calculate the CO2 (g)/kg for the tanker shipment from LA to McMurdo"
   ]
  },
  {
   "cell_type": "code",
   "execution_count": 4,
   "metadata": {},
   "outputs": [
    {
     "data": {
      "text/plain": [
       "11702498.604347453"
      ]
     },
     "execution_count": 4,
     "metadata": {},
     "output_type": "execute_result"
    }
   ],
   "source": [
    "first_leg_emissions = sp.calculate_tanker_emissions(6900, .00110231, 1)\n",
    "second_leg_emissions = sp.calculate_tanker_emissions(2415, .000551155, 2) \n",
    "first_leg_co2 = sp.calculate_co2_equivalent(first_leg_emissions)\n",
    "second_leg_co2 = sp.calculate_co2_equivalent(second_leg_emissions)\n",
    "\n",
    "total_co2_la_to_ant = first_leg_co2+second_leg_co2\n",
    "total_co2_la_to_ant"
   ]
  },
  {
   "cell_type": "markdown",
   "metadata": {},
   "source": [
    "For the trip from LA to McMurdo via 1 tanker for the first leg and two tankers (icebreaker + tanker) for the second leg carrying 1kg emits 11702498g of CO2 (again quite high, but this is a round trip?)"
   ]
  }
 ],
 "metadata": {
  "kernelspec": {
   "display_name": "Python 3",
   "language": "python",
   "name": "python3"
  },
  "language_info": {
   "codemirror_mode": {
    "name": "ipython",
    "version": 3
   },
   "file_extension": ".py",
   "mimetype": "text/x-python",
   "name": "python",
   "nbconvert_exporter": "python",
   "pygments_lexer": "ipython3",
   "version": "3.9.6"
  }
 },
 "nbformat": 4,
 "nbformat_minor": 2
}
